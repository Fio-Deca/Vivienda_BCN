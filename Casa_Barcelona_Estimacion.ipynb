{
 "cells": [
  {
   "cell_type": "markdown",
   "metadata": {},
   "source": [
    "<h1>Análisis del precío de la vivienda en Barcelona</h1>"
   ]
  },
  {
   "cell_type": "code",
   "execution_count": 45,
   "metadata": {},
   "outputs": [],
   "source": [
    "#Importación de librerías\n",
    "import pandas as pd\n",
    "import numpy as np\n",
    "from sklearn import linear_model\n",
    "import seaborn as sns\n",
    "import matplotlib.pyplot as plt"
   ]
  },
  {
   "cell_type": "code",
   "execution_count": 39,
   "metadata": {},
   "outputs": [
    {
     "data": {
      "text/html": [
       "<div>\n",
       "<style scoped>\n",
       "    .dataframe tbody tr th:only-of-type {\n",
       "        vertical-align: middle;\n",
       "    }\n",
       "\n",
       "    .dataframe tbody tr th {\n",
       "        vertical-align: top;\n",
       "    }\n",
       "\n",
       "    .dataframe thead th {\n",
       "        text-align: right;\n",
       "    }\n",
       "</style>\n",
       "<table border=\"1\" class=\"dataframe\">\n",
       "  <thead>\n",
       "    <tr style=\"text-align: right;\">\n",
       "      <th></th>\n",
       "      <th>id</th>\n",
       "      <th>city</th>\n",
       "      <th>district</th>\n",
       "      <th>neighborhood</th>\n",
       "      <th>condition</th>\n",
       "      <th>type</th>\n",
       "      <th>rooms</th>\n",
       "      <th>area_m2</th>\n",
       "      <th>lift</th>\n",
       "      <th>views</th>\n",
       "      <th>floor</th>\n",
       "      <th>prices</th>\n",
       "    </tr>\n",
       "  </thead>\n",
       "  <tbody>\n",
       "    <tr>\n",
       "      <th>0</th>\n",
       "      <td>0</td>\n",
       "      <td>Barcelona</td>\n",
       "      <td>Eixample</td>\n",
       "      <td>la Dreta de l'Eixample</td>\n",
       "      <td>good condition</td>\n",
       "      <td>Flat</td>\n",
       "      <td>3</td>\n",
       "      <td>351</td>\n",
       "      <td>Yes</td>\n",
       "      <td>exterior</td>\n",
       "      <td>floor 1</td>\n",
       "      <td>2300000</td>\n",
       "    </tr>\n",
       "    <tr>\n",
       "      <th>1</th>\n",
       "      <td>1</td>\n",
       "      <td>Barcelona</td>\n",
       "      <td>Sarrià-Sant Gervasi</td>\n",
       "      <td>Sant Gervasi - Galvany</td>\n",
       "      <td>good condition</td>\n",
       "      <td>Flat</td>\n",
       "      <td>5</td>\n",
       "      <td>298</td>\n",
       "      <td>Yes</td>\n",
       "      <td>exterior</td>\n",
       "      <td>floor 3</td>\n",
       "      <td>1750000</td>\n",
       "    </tr>\n",
       "    <tr>\n",
       "      <th>2</th>\n",
       "      <td>2</td>\n",
       "      <td>Barcelona</td>\n",
       "      <td>Eixample</td>\n",
       "      <td>Sant Antoni</td>\n",
       "      <td>good condition</td>\n",
       "      <td>Penthouse</td>\n",
       "      <td>2</td>\n",
       "      <td>90</td>\n",
       "      <td>Yes</td>\n",
       "      <td>exterior</td>\n",
       "      <td>floor 7</td>\n",
       "      <td>590000</td>\n",
       "    </tr>\n",
       "    <tr>\n",
       "      <th>3</th>\n",
       "      <td>3</td>\n",
       "      <td>Barcelona</td>\n",
       "      <td>Eixample</td>\n",
       "      <td>la Dreta de l'Eixample</td>\n",
       "      <td>good condition</td>\n",
       "      <td>Flat</td>\n",
       "      <td>2</td>\n",
       "      <td>130</td>\n",
       "      <td>Yes</td>\n",
       "      <td>exterior</td>\n",
       "      <td>floor 1</td>\n",
       "      <td>450000</td>\n",
       "    </tr>\n",
       "    <tr>\n",
       "      <th>4</th>\n",
       "      <td>4</td>\n",
       "      <td>Barcelona</td>\n",
       "      <td>Horta-Guinardó</td>\n",
       "      <td>Can Baró</td>\n",
       "      <td>good condition</td>\n",
       "      <td>Terraced</td>\n",
       "      <td>3</td>\n",
       "      <td>110</td>\n",
       "      <td>No</td>\n",
       "      <td>exterior</td>\n",
       "      <td>Multiple</td>\n",
       "      <td>430000</td>\n",
       "    </tr>\n",
       "    <tr>\n",
       "      <th>...</th>\n",
       "      <td>...</td>\n",
       "      <td>...</td>\n",
       "      <td>...</td>\n",
       "      <td>...</td>\n",
       "      <td>...</td>\n",
       "      <td>...</td>\n",
       "      <td>...</td>\n",
       "      <td>...</td>\n",
       "      <td>...</td>\n",
       "      <td>...</td>\n",
       "      <td>...</td>\n",
       "      <td>...</td>\n",
       "    </tr>\n",
       "    <tr>\n",
       "      <th>3260</th>\n",
       "      <td>3260</td>\n",
       "      <td>Barcelona</td>\n",
       "      <td>Gràcia</td>\n",
       "      <td>la Vila de Gràcia</td>\n",
       "      <td>needs refurb</td>\n",
       "      <td>Flat</td>\n",
       "      <td>1</td>\n",
       "      <td>64</td>\n",
       "      <td>Yes</td>\n",
       "      <td>exterior</td>\n",
       "      <td>floor 1</td>\n",
       "      <td>295000</td>\n",
       "    </tr>\n",
       "    <tr>\n",
       "      <th>3261</th>\n",
       "      <td>3261</td>\n",
       "      <td>Barcelona</td>\n",
       "      <td>Ciutat Vella</td>\n",
       "      <td>Sant Pere - Santa Caterina i la Ribera</td>\n",
       "      <td>needs refurb</td>\n",
       "      <td>Flat</td>\n",
       "      <td>3</td>\n",
       "      <td>99</td>\n",
       "      <td>No</td>\n",
       "      <td>exterior</td>\n",
       "      <td>floor 2</td>\n",
       "      <td>420000</td>\n",
       "    </tr>\n",
       "    <tr>\n",
       "      <th>3262</th>\n",
       "      <td>3262</td>\n",
       "      <td>Barcelona</td>\n",
       "      <td>Les Corts</td>\n",
       "      <td>la Maternitat i Sant Ramon</td>\n",
       "      <td>needs refurb</td>\n",
       "      <td>Flat</td>\n",
       "      <td>4</td>\n",
       "      <td>127</td>\n",
       "      <td>Yes</td>\n",
       "      <td>exterior</td>\n",
       "      <td>floor 4</td>\n",
       "      <td>545000</td>\n",
       "    </tr>\n",
       "    <tr>\n",
       "      <th>3263</th>\n",
       "      <td>3263</td>\n",
       "      <td>Barcelona</td>\n",
       "      <td>Sant Martí</td>\n",
       "      <td>el Parc i la Llacuna del Poblenou</td>\n",
       "      <td>needs refurb</td>\n",
       "      <td>Flat</td>\n",
       "      <td>3</td>\n",
       "      <td>64</td>\n",
       "      <td>No</td>\n",
       "      <td>exterior</td>\n",
       "      <td>ground floor</td>\n",
       "      <td>170000</td>\n",
       "    </tr>\n",
       "    <tr>\n",
       "      <th>3264</th>\n",
       "      <td>3264</td>\n",
       "      <td>Barcelona</td>\n",
       "      <td>Ciutat Vella</td>\n",
       "      <td>el Raval</td>\n",
       "      <td>needs refurb</td>\n",
       "      <td>Flat</td>\n",
       "      <td>4</td>\n",
       "      <td>70</td>\n",
       "      <td>No</td>\n",
       "      <td>exterior</td>\n",
       "      <td>floor 1</td>\n",
       "      <td>178800</td>\n",
       "    </tr>\n",
       "  </tbody>\n",
       "</table>\n",
       "<p>3265 rows × 12 columns</p>\n",
       "</div>"
      ],
      "text/plain": [
       "        id       city             district  \\\n",
       "0        0  Barcelona             Eixample   \n",
       "1        1  Barcelona  Sarrià-Sant Gervasi   \n",
       "2        2  Barcelona             Eixample   \n",
       "3        3  Barcelona             Eixample   \n",
       "4        4  Barcelona       Horta-Guinardó   \n",
       "...    ...        ...                  ...   \n",
       "3260  3260  Barcelona               Gràcia   \n",
       "3261  3261  Barcelona         Ciutat Vella   \n",
       "3262  3262  Barcelona            Les Corts   \n",
       "3263  3263  Barcelona           Sant Martí   \n",
       "3264  3264  Barcelona         Ciutat Vella   \n",
       "\n",
       "                                neighborhood       condition       type  \\\n",
       "0                     la Dreta de l'Eixample  good condition       Flat   \n",
       "1                     Sant Gervasi - Galvany  good condition       Flat   \n",
       "2                                Sant Antoni  good condition  Penthouse   \n",
       "3                     la Dreta de l'Eixample  good condition       Flat   \n",
       "4                                   Can Baró  good condition   Terraced   \n",
       "...                                      ...             ...        ...   \n",
       "3260                       la Vila de Gràcia    needs refurb       Flat   \n",
       "3261  Sant Pere - Santa Caterina i la Ribera    needs refurb       Flat   \n",
       "3262              la Maternitat i Sant Ramon    needs refurb       Flat   \n",
       "3263       el Parc i la Llacuna del Poblenou    needs refurb       Flat   \n",
       "3264                                el Raval    needs refurb       Flat   \n",
       "\n",
       "      rooms  area_m2 lift     views         floor   prices  \n",
       "0         3      351  Yes  exterior       floor 1  2300000  \n",
       "1         5      298  Yes  exterior       floor 3  1750000  \n",
       "2         2       90  Yes  exterior       floor 7   590000  \n",
       "3         2      130  Yes  exterior       floor 1   450000  \n",
       "4         3      110   No  exterior      Multiple   430000  \n",
       "...     ...      ...  ...       ...           ...      ...  \n",
       "3260      1       64  Yes  exterior       floor 1   295000  \n",
       "3261      3       99   No  exterior       floor 2   420000  \n",
       "3262      4      127  Yes  exterior       floor 4   545000  \n",
       "3263      3       64   No  exterior  ground floor   170000  \n",
       "3264      4       70   No  exterior       floor 1   178800  \n",
       "\n",
       "[3265 rows x 12 columns]"
      ]
     },
     "execution_count": 39,
     "metadata": {},
     "output_type": "execute_result"
    }
   ],
   "source": [
    "#Importamos el dataframe\n",
    "df = pd.read_csv(\"Barcelona_Idealista.csv\")\n",
    "df"
   ]
  },
  {
   "cell_type": "markdown",
   "metadata": {},
   "source": [
    "## Precio medio de las casas\n",
    "Como podemos observar el barrio más caro es el de Sarría-Sant Gervasi con el precio medio superior al millón de euros, seguido Les Corts que tienen un precio aproximado del millón de euros, después el 3.er barrio más caro para vivir l'Eixample con precio medio de 600.000 € por vivienda como podemos ver el 3.er barrio más caro está casi a la mitad de precio que los 2 primeros. <br>\n",
    "Los siguientes 3 barrios que son Ciutat Vella, Sant Martí, Gràcia se irán a los 400.000 € por vivienda. En las posiciones mas bajas tenemos a Horta-Guinardó, Sans-Montjuic, Sant Andreu que el precio de la vivienda estaría alrededor de los 300.000 € y por último tenemos a nou barris que el precio medio de la vivienda estaría alrededor de los 200.000 €"
   ]
  },
  {
   "cell_type": "code",
   "execution_count": 57,
   "metadata": {},
   "outputs": [
    {
     "data": {
      "text/plain": [
       "Text(0.5, 0, 'Distritos')"
      ]
     },
     "execution_count": 57,
     "metadata": {},
     "output_type": "execute_result"
    },
    {
     "data": {
      "image/png": "[encoded data removed]",
      "text/plain": [
       "<Figure size 1296x720 with 1 Axes>"
      ]
     },
     "metadata": {
      "needs_background": "light"
     },
     "output_type": "display_data"
    }
   ],
   "source": [
    "plt.figure(figsize=(18,10))\n",
    "sns.barplot(data=df,x='district',y='prices',errwidth=0)\n",
    "plt.xlabel(\"Distritos\")"
   ]
  },
  {
   "cell_type": "code",
   "execution_count": 59,
   "metadata": {},
   "outputs": [
    {
     "data": {
      "text/plain": [
       "Text(0.5, 0, 'Distritos')"
      ]
     },
     "execution_count": 59,
     "metadata": {},
     "output_type": "execute_result"
    },
    {
     "data": {
      "image/png": "[encoded data removed]",
      "text/plain": [
       "<Figure size 1296x720 with 1 Axes>"
      ]
     },
     "metadata": {
      "needs_background": "light"
     },
     "output_type": "display_data"
    }
   ],
   "source": [
    "plt.figure(figsize=(18,10))\n",
    "sns.barplot(data=df,x='district',y='prices',errwidth=0,hue='lift')\n",
    "plt.xlabel(\"Distritos\")"
   ]
  },
  {
   "cell_type": "code",
   "execution_count": 36,
   "metadata": {},
   "outputs": [
    {
     "data": {
      "text/plain": [
       "array(['Flat', 'Penthouse', 'Terraced', 'Duplex', 'Detached', 'House',\n",
       "       'Semi-detached', 'Rustic'], dtype=object)"
      ]
     },
     "execution_count": 36,
     "metadata": {},
     "output_type": "execute_result"
    }
   ],
   "source": [
    "pd.unique(df.type)"
   ]
  },
  {
   "cell_type": "code",
   "execution_count": 31,
   "metadata": {},
   "outputs": [
    {
     "name": "stdout",
     "output_type": "stream",
     "text": [
      "{0: \"la Dreta de l'Eixample\", 1: 'Sant Gervasi - Galvany', 2: 'Sant Antoni', 3: 'Can Baró', 4: 'el Fort Pienc', 5: 'la Sagrada Família', 6: \"la Nova Esquerra de l'Eixample\", 7: 'Pedralbes', 8: 'Sant Pere - Santa Caterina i la Ribera', 9: 'el Guinardó', 10: \"l'Antiga Esquerra de l'Eixample\", 11: 'el Poblenou', 12: 'les Corts', 13: 'Sant Gervasi - la Bonanova', 14: 'el Poble Sec - AEI Parc de Montjuïc', 15: 'el Barri Gòtic', 16: 'la Vila de Gràcia', 17: 'el Congrés i els Indians', 18: 'la Vila Olímpica del Poblenou', 19: 'Sant Martí de Provençals', 20: 'el Clot', 21: \"el Camp de l'Arpa del Clot\", 22: 'la Bordeta', 23: \"el Camp d'en Grassot i Gràcia Nova\", 24: 'Sarrià', 25: 'el Carmel', 26: 'la Maternitat i Sant Ramon', 27: 'el Putxet i el Farró', 28: 'el Raval', 29: 'Vallvidrera - el Tibidabo i les Planes', 30: 'les Tres Torres', 31: 'el Besòs i el Maresme', 32: \"la Font d'en Fargues\", 33: 'Provençals del Poblenou', 34: 'Vallcarca i els Penitents', 35: 'Diagonal Mar i el Front Marítim del Poblenou', 36: 'la Salut', 37: 'la Barceloneta', 38: 'Sants', 39: 'la Verneda i la Pau', 40: 'el Parc i la Llacuna del Poblenou', 41: 'les Roquetes', 42: 'el Baix Guinardó', 43: 'la Prosperitat', 44: 'Vilapicina i la Torre Llobeta', 45: 'Sant Andreu', 46: 'la Teixonera', 47: 'la Trinitat Nova', 48: 'la Marina de Port', 49: 'Navas', 50: 'Hostafrancs', 51: 'Horta', 52: 'Sant Genís dels Agudells', 53: 'Sants - Badal', 54: 'Porta', 55: 'la Guineueta', 56: 'la Sagrera', 57: 'Verdun', 58: 'Can Peguera', 59: 'el Bon Pastor', 60: 'la Font de la Guatlla', 61: \"la Vall d'Hebron\", 62: 'el Coll', 63: 'Canyelles', 64: 'Ciutat Meridiana'}\n"
     ]
    }
   ],
   "source": [
    "#Función para hacer un diccionario con un número los tipos únicos de cada columna\n",
    "def conversion(diccionario,lista):\n",
    "    for i in range(len(neighborhood)):\n",
    "        Dictneighborhood.update({i:neighborhood[i]}) \n",
    "#Inicializamos los diccionarios        \n",
    "Dictneighborhood = {}\n",
    "DictDistrict = {}\n",
    "DictCondition={}\n",
    "DictType={}\n",
    "DictFloor={}\n",
    "#Hago un array de los tipos únicos que hay en cada columna \n",
    "neighborhood=pd.unique(df.neighborhood)\n",
    "district=pd.unique(df.district)\n",
    "condition=pd.unique(df.condition) \n",
    "Type=pd.unique(df.Type)\n",
    "floors=pd.unique(df.floors)\n",
    "#Llamos a la función conversión\n",
    "conversion(Dictneighborhood,neighborhood)\n",
    "conversion(DictDistrict,district)\n",
    "conversion(DictCondition,condition)\n",
    "conversion(DictType,Type)\n",
    "conversion(DictFloor,floors)"
   ]
  },
  {
   "cell_type": "code",
   "execution_count": 34,
   "metadata": {
    "scrolled": true
   },
   "outputs": [
    {
     "data": {
      "text/html": [
       "<div>\n",
       "<style scoped>\n",
       "    .dataframe tbody tr th:only-of-type {\n",
       "        vertical-align: middle;\n",
       "    }\n",
       "\n",
       "    .dataframe tbody tr th {\n",
       "        vertical-align: top;\n",
       "    }\n",
       "\n",
       "    .dataframe thead th {\n",
       "        text-align: right;\n",
       "    }\n",
       "</style>\n",
       "<table border=\"1\" class=\"dataframe\">\n",
       "  <thead>\n",
       "    <tr style=\"text-align: right;\">\n",
       "      <th></th>\n",
       "      <th>district</th>\n",
       "      <th>neighborhood</th>\n",
       "      <th>condition</th>\n",
       "      <th>type</th>\n",
       "      <th>rooms</th>\n",
       "      <th>area_m2</th>\n",
       "      <th>lift</th>\n",
       "      <th>views</th>\n",
       "      <th>floor</th>\n",
       "      <th>prices</th>\n",
       "    </tr>\n",
       "  </thead>\n",
       "  <tbody>\n",
       "    <tr>\n",
       "      <th>0</th>\n",
       "      <td>Eixample</td>\n",
       "      <td>la Dreta de l'Eixample</td>\n",
       "      <td>good condition</td>\n",
       "      <td>Flat</td>\n",
       "      <td>3</td>\n",
       "      <td>351</td>\n",
       "      <td>Yes</td>\n",
       "      <td>exterior</td>\n",
       "      <td>floor 1</td>\n",
       "      <td>2300000</td>\n",
       "    </tr>\n",
       "    <tr>\n",
       "      <th>1</th>\n",
       "      <td>Sarrià-Sant Gervasi</td>\n",
       "      <td>Sant Gervasi - Galvany</td>\n",
       "      <td>good condition</td>\n",
       "      <td>Flat</td>\n",
       "      <td>5</td>\n",
       "      <td>298</td>\n",
       "      <td>Yes</td>\n",
       "      <td>exterior</td>\n",
       "      <td>floor 3</td>\n",
       "      <td>1750000</td>\n",
       "    </tr>\n",
       "    <tr>\n",
       "      <th>2</th>\n",
       "      <td>Eixample</td>\n",
       "      <td>Sant Antoni</td>\n",
       "      <td>good condition</td>\n",
       "      <td>Penthouse</td>\n",
       "      <td>2</td>\n",
       "      <td>90</td>\n",
       "      <td>Yes</td>\n",
       "      <td>exterior</td>\n",
       "      <td>floor 7</td>\n",
       "      <td>590000</td>\n",
       "    </tr>\n",
       "    <tr>\n",
       "      <th>3</th>\n",
       "      <td>Eixample</td>\n",
       "      <td>la Dreta de l'Eixample</td>\n",
       "      <td>good condition</td>\n",
       "      <td>Flat</td>\n",
       "      <td>2</td>\n",
       "      <td>130</td>\n",
       "      <td>Yes</td>\n",
       "      <td>exterior</td>\n",
       "      <td>floor 1</td>\n",
       "      <td>450000</td>\n",
       "    </tr>\n",
       "    <tr>\n",
       "      <th>4</th>\n",
       "      <td>Horta-Guinardó</td>\n",
       "      <td>Can Baró</td>\n",
       "      <td>good condition</td>\n",
       "      <td>Terraced</td>\n",
       "      <td>3</td>\n",
       "      <td>110</td>\n",
       "      <td>No</td>\n",
       "      <td>exterior</td>\n",
       "      <td>Multiple</td>\n",
       "      <td>430000</td>\n",
       "    </tr>\n",
       "  </tbody>\n",
       "</table>\n",
       "</div>"
      ],
      "text/plain": [
       "              district            neighborhood       condition       type  \\\n",
       "0             Eixample  la Dreta de l'Eixample  good condition       Flat   \n",
       "1  Sarrià-Sant Gervasi  Sant Gervasi - Galvany  good condition       Flat   \n",
       "2             Eixample             Sant Antoni  good condition  Penthouse   \n",
       "3             Eixample  la Dreta de l'Eixample  good condition       Flat   \n",
       "4       Horta-Guinardó                Can Baró  good condition   Terraced   \n",
       "\n",
       "   rooms  area_m2 lift     views     floor   prices  \n",
       "0      3      351  Yes  exterior   floor 1  2300000  \n",
       "1      5      298  Yes  exterior   floor 3  1750000  \n",
       "2      2       90  Yes  exterior   floor 7   590000  \n",
       "3      2      130  Yes  exterior   floor 1   450000  \n",
       "4      3      110   No  exterior  Multiple   430000  "
      ]
     },
     "execution_count": 34,
     "metadata": {},
     "output_type": "execute_result"
    }
   ],
   "source": [
    "#Eliminamos las celdas que son formato string menos la de lift\n",
    "df.drop(['id','city',],axis=1,inplace=True)\n",
    "df.head(5)"
   ]
  },
  {
   "cell_type": "code",
   "execution_count": null,
   "metadata": {},
   "outputs": [
    {
     "data": {
      "text/html": [
       "<div>\n",
       "<style scoped>\n",
       "    .dataframe tbody tr th:only-of-type {\n",
       "        vertical-align: middle;\n",
       "    }\n",
       "\n",
       "    .dataframe tbody tr th {\n",
       "        vertical-align: top;\n",
       "    }\n",
       "\n",
       "    .dataframe thead th {\n",
       "        text-align: right;\n",
       "    }\n",
       "</style>\n",
       "<table border=\"1\" class=\"dataframe\">\n",
       "  <thead>\n",
       "    <tr style=\"text-align: right;\">\n",
       "      <th></th>\n",
       "      <th>rooms</th>\n",
       "      <th>area_m2</th>\n",
       "      <th>lift</th>\n",
       "      <th>prices</th>\n",
       "    </tr>\n",
       "  </thead>\n",
       "  <tbody>\n",
       "    <tr>\n",
       "      <th>0</th>\n",
       "      <td>3</td>\n",
       "      <td>351</td>\n",
       "      <td>1</td>\n",
       "      <td>2300000</td>\n",
       "    </tr>\n",
       "    <tr>\n",
       "      <th>1</th>\n",
       "      <td>5</td>\n",
       "      <td>298</td>\n",
       "      <td>1</td>\n",
       "      <td>1750000</td>\n",
       "    </tr>\n",
       "    <tr>\n",
       "      <th>2</th>\n",
       "      <td>2</td>\n",
       "      <td>90</td>\n",
       "      <td>1</td>\n",
       "      <td>590000</td>\n",
       "    </tr>\n",
       "    <tr>\n",
       "      <th>3</th>\n",
       "      <td>2</td>\n",
       "      <td>130</td>\n",
       "      <td>1</td>\n",
       "      <td>450000</td>\n",
       "    </tr>\n",
       "    <tr>\n",
       "      <th>4</th>\n",
       "      <td>3</td>\n",
       "      <td>110</td>\n",
       "      <td>0</td>\n",
       "      <td>430000</td>\n",
       "    </tr>\n",
       "  </tbody>\n",
       "</table>\n",
       "</div>"
      ],
      "text/plain": [
       "   rooms  area_m2  lift   prices\n",
       "0      3      351     1  2300000\n",
       "1      5      298     1  1750000\n",
       "2      2       90     1   590000\n",
       "3      2      130     1   450000\n",
       "4      3      110     0   430000"
      ]
     },
     "execution_count": 104,
     "metadata": {},
     "output_type": "execute_result"
    }
   ],
   "source": [
    "#Cambiamos los valores de la columna lift de string a booleano\n",
    "df['lift']=df['lift'].map({\n",
    "    'Yes':1,\n",
    "    'No':0\n",
    "})\n",
    "df['views']=df['exterior'].map({\n",
    "    'exterior':1,\n",
    "    'interior':0\n",
    "})\n",
    "df.head(5)"
   ]
  },
  {
   "cell_type": "code",
   "execution_count": null,
   "metadata": {},
   "outputs": [],
   "source": []
  },
  {
   "cell_type": "code",
   "execution_count": null,
   "metadata": {},
   "outputs": [
    {
     "data": {
      "text/plain": [
       "LinearRegression(copy_X=True, fit_intercept=True, n_jobs=None, normalize=False)"
      ]
     },
     "execution_count": 105,
     "metadata": {},
     "output_type": "execute_result"
    }
   ],
   "source": [
    "#usaremos el modelo de regresión lineal para predecir el precio de una casa\n",
    "reg = linear_model.LinearRegression()\n",
    "reg.fit(df.drop('prices',axis='columns'),df.prices)"
   ]
  },
  {
   "cell_type": "code",
   "execution_count": null,
   "metadata": {},
   "outputs": [
    {
     "data": {
      "text/plain": [
       "array([552005.25990284])"
      ]
     },
     "execution_count": 106,
     "metadata": {},
     "output_type": "execute_result"
    }
   ],
   "source": [
    "#Ahora hacemos una predicción para comprobar como funciona, la primera casilla es el número de habitaciones\n",
    "#la segunda casilla son los m2 de la vivienda y la Tercera un booleano de si tiene ascensor\n",
    "reg.predict([[4,120,1]])"
   ]
  },
  {
   "cell_type": "markdown",
   "metadata": {},
   "source": [
    "<h5> Exportamos el modelo </h5>"
   ]
  },
  {
   "cell_type": "code",
   "execution_count": null,
   "metadata": {},
   "outputs": [
    {
     "data": {
      "text/plain": [
       "['modelo_predecir_vivenda_BCN']"
      ]
     },
     "execution_count": 107,
     "metadata": {},
     "output_type": "execute_result"
    }
   ],
   "source": [
    "from sklearn.externals import joblib\n",
    "joblib.dump(reg, 'modelo_predecir_vivenda_BCN')"
   ]
  }
 ],
 "metadata": {
  "kernelspec": {
   "display_name": "Python 3",
   "language": "python",
   "name": "python3"
  },
  "language_info": {
   "codemirror_mode": {
    "name": "ipython",
    "version": 3
   },
   "file_extension": ".py",
   "mimetype": "text/x-python",
   "name": "python",
   "nbconvert_exporter": "python",
   "pygments_lexer": "ipython3",
   "version": "3.7.7"
  }
 },
 "nbformat": 4,
 "nbformat_minor": 4
}
